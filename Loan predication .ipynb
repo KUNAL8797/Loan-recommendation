{
 "cells": [
  {
   "cell_type": "code",
   "execution_count": 48,
   "id": "44bec574",
   "metadata": {},
   "outputs": [],
   "source": [
    "import numpy as np\n",
    "import pandas as pd\n",
    "import matplotlib.pyplot as plt\n",
    "%matplotlib inline\n",
    "import seaborn as sns"
   ]
  },
  {
   "cell_type": "code",
   "execution_count": 49,
   "id": "95b90d75",
   "metadata": {},
   "outputs": [],
   "source": [
    "c= pd.read_csv(\"loan-train.csv\")"
   ]
  },
  {
   "cell_type": "code",
   "execution_count": 50,
   "id": "8c24ffc0",
   "metadata": {},
   "outputs": [
    {
     "data": {
      "text/html": [
       "<div>\n",
       "<style scoped>\n",
       "    .dataframe tbody tr th:only-of-type {\n",
       "        vertical-align: middle;\n",
       "    }\n",
       "\n",
       "    .dataframe tbody tr th {\n",
       "        vertical-align: top;\n",
       "    }\n",
       "\n",
       "    .dataframe thead th {\n",
       "        text-align: right;\n",
       "    }\n",
       "</style>\n",
       "<table border=\"1\" class=\"dataframe\">\n",
       "  <thead>\n",
       "    <tr style=\"text-align: right;\">\n",
       "      <th></th>\n",
       "      <th>Loan_ID</th>\n",
       "      <th>Gender</th>\n",
       "      <th>Married</th>\n",
       "      <th>Dependents</th>\n",
       "      <th>Education</th>\n",
       "      <th>Self_Employed</th>\n",
       "      <th>ApplicantIncome</th>\n",
       "      <th>CoapplicantIncome</th>\n",
       "      <th>LoanAmount</th>\n",
       "      <th>Loan_Amount_Term</th>\n",
       "      <th>Credit_History</th>\n",
       "      <th>Property_Area</th>\n",
       "      <th>Loan_Status</th>\n",
       "    </tr>\n",
       "  </thead>\n",
       "  <tbody>\n",
       "    <tr>\n",
       "      <th>0</th>\n",
       "      <td>LP001002</td>\n",
       "      <td>Male</td>\n",
       "      <td>No</td>\n",
       "      <td>0</td>\n",
       "      <td>Graduate</td>\n",
       "      <td>No</td>\n",
       "      <td>5849</td>\n",
       "      <td>0.0</td>\n",
       "      <td>NaN</td>\n",
       "      <td>360.0</td>\n",
       "      <td>1.0</td>\n",
       "      <td>Urban</td>\n",
       "      <td>Y</td>\n",
       "    </tr>\n",
       "    <tr>\n",
       "      <th>1</th>\n",
       "      <td>LP001003</td>\n",
       "      <td>Male</td>\n",
       "      <td>Yes</td>\n",
       "      <td>1</td>\n",
       "      <td>Graduate</td>\n",
       "      <td>No</td>\n",
       "      <td>4583</td>\n",
       "      <td>1508.0</td>\n",
       "      <td>128.0</td>\n",
       "      <td>360.0</td>\n",
       "      <td>1.0</td>\n",
       "      <td>Rural</td>\n",
       "      <td>N</td>\n",
       "    </tr>\n",
       "    <tr>\n",
       "      <th>2</th>\n",
       "      <td>LP001005</td>\n",
       "      <td>Male</td>\n",
       "      <td>Yes</td>\n",
       "      <td>0</td>\n",
       "      <td>Graduate</td>\n",
       "      <td>Yes</td>\n",
       "      <td>3000</td>\n",
       "      <td>0.0</td>\n",
       "      <td>66.0</td>\n",
       "      <td>360.0</td>\n",
       "      <td>1.0</td>\n",
       "      <td>Urban</td>\n",
       "      <td>Y</td>\n",
       "    </tr>\n",
       "    <tr>\n",
       "      <th>3</th>\n",
       "      <td>LP001006</td>\n",
       "      <td>Male</td>\n",
       "      <td>Yes</td>\n",
       "      <td>0</td>\n",
       "      <td>Not Graduate</td>\n",
       "      <td>No</td>\n",
       "      <td>2583</td>\n",
       "      <td>2358.0</td>\n",
       "      <td>120.0</td>\n",
       "      <td>360.0</td>\n",
       "      <td>1.0</td>\n",
       "      <td>Urban</td>\n",
       "      <td>Y</td>\n",
       "    </tr>\n",
       "    <tr>\n",
       "      <th>4</th>\n",
       "      <td>LP001008</td>\n",
       "      <td>Male</td>\n",
       "      <td>No</td>\n",
       "      <td>0</td>\n",
       "      <td>Graduate</td>\n",
       "      <td>No</td>\n",
       "      <td>6000</td>\n",
       "      <td>0.0</td>\n",
       "      <td>141.0</td>\n",
       "      <td>360.0</td>\n",
       "      <td>1.0</td>\n",
       "      <td>Urban</td>\n",
       "      <td>Y</td>\n",
       "    </tr>\n",
       "  </tbody>\n",
       "</table>\n",
       "</div>"
      ],
      "text/plain": [
       "    Loan_ID Gender Married Dependents     Education Self_Employed  \\\n",
       "0  LP001002   Male      No          0      Graduate            No   \n",
       "1  LP001003   Male     Yes          1      Graduate            No   \n",
       "2  LP001005   Male     Yes          0      Graduate           Yes   \n",
       "3  LP001006   Male     Yes          0  Not Graduate            No   \n",
       "4  LP001008   Male      No          0      Graduate            No   \n",
       "\n",
       "   ApplicantIncome  CoapplicantIncome  LoanAmount  Loan_Amount_Term  \\\n",
       "0             5849                0.0         NaN             360.0   \n",
       "1             4583             1508.0       128.0             360.0   \n",
       "2             3000                0.0        66.0             360.0   \n",
       "3             2583             2358.0       120.0             360.0   \n",
       "4             6000                0.0       141.0             360.0   \n",
       "\n",
       "   Credit_History Property_Area Loan_Status  \n",
       "0             1.0         Urban           Y  \n",
       "1             1.0         Rural           N  \n",
       "2             1.0         Urban           Y  \n",
       "3             1.0         Urban           Y  \n",
       "4             1.0         Urban           Y  "
      ]
     },
     "execution_count": 50,
     "metadata": {},
     "output_type": "execute_result"
    }
   ],
   "source": [
    "c.head()"
   ]
  },
  {
   "cell_type": "markdown",
   "id": "b0923029",
   "metadata": {},
   "source": [
    "# # To remove all the Empty PLace .\n"
   ]
  },
  {
   "cell_type": "code",
   "execution_count": 51,
   "id": "32650821",
   "metadata": {},
   "outputs": [
    {
     "data": {
      "text/plain": [
       "Loan_ID              0\n",
       "Gender               0\n",
       "Married              0\n",
       "Dependents           0\n",
       "Education            0\n",
       "Self_Employed        0\n",
       "ApplicantIncome      0\n",
       "CoapplicantIncome    0\n",
       "LoanAmount           0\n",
       "Loan_Amount_Term     0\n",
       "Credit_History       0\n",
       "Property_Area        0\n",
       "Loan_Status          0\n",
       "dtype: int64"
      ]
     },
     "execution_count": 51,
     "metadata": {},
     "output_type": "execute_result"
    }
   ],
   "source": [
    "c['Gender'].fillna(c['Gender'].mode()[0],inplace=True)\n",
    "c['Self_Employed'].fillna(c['Self_Employed'].mode()[0], inplace=True)\n",
    "c['Married'].fillna(c['Married'].mode()[0], inplace=True)\n",
    "c['Dependents'].fillna(c['Dependents'].mode()[0], inplace=True)\n",
    "c['LoanAmount'].fillna(c['LoanAmount'].mean(), inplace=True)\n",
    "c['Loan_Amount_Term'].fillna(c['Loan_Amount_Term'].mode()[0], inplace=True)             \n",
    "c['Credit_History'].fillna(c['Credit_History'].mode()[0], inplace=True)\n",
    "c.isnull().sum()"
   ]
  },
  {
   "cell_type": "code",
   "execution_count": 52,
   "id": "0118e5ad",
   "metadata": {},
   "outputs": [],
   "source": [
    "c['TotalIncome'] = c['ApplicantIncome'] + c['CoapplicantIncome']"
   ]
  },
  {
   "cell_type": "code",
   "execution_count": 53,
   "id": "97b5c5e9",
   "metadata": {},
   "outputs": [
    {
     "data": {
      "text/plain": [
       "<Axes: >"
      ]
     },
     "execution_count": 53,
     "metadata": {},
     "output_type": "execute_result"
    },
    {
     "data": {
      "image/png": "[encoded data removed]",
      "text/plain": [
       "<Figure size 640x480 with 1 Axes>"
      ]
     },
     "metadata": {},
     "output_type": "display_data"
    }
   ],
   "source": [
    "c['TotalIncome'].hist(bins=20)"
   ]
  },
  {
   "cell_type": "code",
   "execution_count": 54,
   "id": "8e390352",
   "metadata": {},
   "outputs": [],
   "source": [
    "c['TotalIncome_log'] = np.log(c['TotalIncome'])"
   ]
  },
  {
   "cell_type": "code",
   "execution_count": 55,
   "id": "518f897e",
   "metadata": {},
   "outputs": [
    {
     "data": {
      "text/plain": [
       "<Axes: >"
      ]
     },
     "execution_count": 55,
     "metadata": {},
     "output_type": "execute_result"
    },
    {
     "data": {
      "image/png": "[encoded data removed]",
      "text/plain": [
       "<Figure size 640x480 with 1 Axes>"
      ]
     },
     "metadata": {},
     "output_type": "display_data"
    }
   ],
   "source": [
    "c['TotalIncome_log'].hist(bins=20)"
   ]
  },
  {
   "cell_type": "code",
   "execution_count": 56,
   "id": "b3455429",
   "metadata": {},
   "outputs": [],
   "source": [
    "# x have independent Variable\n",
    "x = c.iloc[:, np.r_[1:5,9:11,13:15]].values\n",
    "\n",
    "# y have only dependent variable\n",
    "y = c.iloc[:, 12].values"
   ]
  },
  {
   "cell_type": "code",
   "execution_count": null,
   "id": "e0cbd280",
   "metadata": {},
   "outputs": [],
   "source": []
  },
  {
   "cell_type": "markdown",
   "id": "eef5baf4",
   "metadata": {},
   "source": [
    "## to split the data ."
   ]
  },
  {
   "cell_type": "code",
   "execution_count": 57,
   "id": "a4fc370e",
   "metadata": {},
   "outputs": [],
   "source": [
    "from sklearn.model_selection import train_test_split\n",
    "x_train, x_test, y_train, y_test = train_test_split(x,y, test_size=0.2, random_state=0)"
   ]
  },
  {
   "cell_type": "code",
   "execution_count": 58,
   "id": "1bf2e9d0",
   "metadata": {},
   "outputs": [
    {
     "data": {
      "text/plain": [
       "array(['Y', 'N', 'Y', 'N', 'Y', 'N', 'Y', 'Y', 'N', 'Y', 'Y', 'Y', 'Y',\n",
       "       'Y', 'Y', 'N', 'N', 'Y', 'Y', 'N', 'N', 'Y', 'Y', 'Y', 'Y', 'Y',\n",
       "       'Y', 'Y', 'N', 'N', 'Y', 'Y', 'Y', 'Y', 'Y', 'N', 'Y', 'Y', 'Y',\n",
       "       'Y', 'Y', 'N', 'Y', 'Y', 'Y', 'Y', 'Y', 'Y', 'N', 'Y', 'Y', 'Y',\n",
       "       'Y', 'Y', 'Y', 'Y', 'Y', 'N', 'Y', 'Y', 'Y', 'N', 'Y', 'N', 'Y',\n",
       "       'Y', 'Y', 'Y', 'Y', 'Y', 'N', 'Y', 'Y', 'Y', 'Y', 'Y', 'N', 'N',\n",
       "       'Y', 'N', 'Y', 'N', 'N', 'Y', 'N', 'Y', 'Y', 'Y', 'Y', 'Y', 'Y',\n",
       "       'N', 'N', 'N', 'Y', 'N', 'Y', 'Y', 'Y', 'Y', 'Y', 'Y', 'Y', 'N',\n",
       "       'Y', 'Y', 'Y', 'Y', 'Y', 'N', 'Y', 'N', 'N', 'Y', 'N', 'Y', 'Y',\n",
       "       'Y', 'Y', 'Y', 'Y', 'N', 'Y'], dtype=object)"
      ]
     },
     "execution_count": 58,
     "metadata": {},
     "output_type": "execute_result"
    }
   ],
   "source": [
    "y_test"
   ]
  },
  {
   "cell_type": "code",
   "execution_count": 59,
   "id": "6e0757dd",
   "metadata": {},
   "outputs": [],
   "source": [
    "from sklearn.preprocessing import LabelEncoder\n",
    "labelencoder_x = LabelEncoder()\n",
    "labelencoder_y = LabelEncoder()"
   ]
  },
  {
   "cell_type": "code",
   "execution_count": 60,
   "id": "70a50d48",
   "metadata": {},
   "outputs": [],
   "source": [
    "for i in range(0,5):\n",
    "    x_train[:,i] = labelencoder_x.fit_transform(x_train[:,i])\n",
    "x_train[:,7] = labelencoder_x.fit_transform(x_train[:,7])\n"
   ]
  },
  {
   "cell_type": "code",
   "execution_count": 61,
   "id": "93e6477b",
   "metadata": {},
   "outputs": [
    {
     "data": {
      "text/plain": [
       "array([[1, 1, 0, ..., 1.0, 5858.0, 267],\n",
       "       [1, 0, 1, ..., 1.0, 11250.0, 407],\n",
       "       [1, 1, 0, ..., 0.0, 5681.0, 249],\n",
       "       ...,\n",
       "       [1, 1, 3, ..., 1.0, 8334.0, 363],\n",
       "       [1, 1, 0, ..., 1.0, 6033.0, 273],\n",
       "       [0, 1, 0, ..., 1.0, 6486.0, 301]], dtype=object)"
      ]
     },
     "execution_count": 61,
     "metadata": {},
     "output_type": "execute_result"
    }
   ],
   "source": [
    "x_train"
   ]
  },
  {
   "cell_type": "code",
   "execution_count": 62,
   "id": "7d902fd7",
   "metadata": {},
   "outputs": [],
   "source": [
    "y_train = labelencoder_y.fit_transform(y_train)"
   ]
  },
  {
   "cell_type": "code",
   "execution_count": 63,
   "id": "c77de133",
   "metadata": {},
   "outputs": [],
   "source": [
    "for i in range(0,5):\n",
    "  x_test[:,i] = labelencoder_x.fit_transform(x_test[:,i])\n",
    "x_test[:,7] = labelencoder_x.fit_transform(x_test[:,7])"
   ]
  },
  {
   "cell_type": "code",
   "execution_count": 64,
   "id": "60cf68f0",
   "metadata": {},
   "outputs": [],
   "source": [
    "y_test = labelencoder_y.fit_transform(y_test)\n",
    "\n"
   ]
  },
  {
   "cell_type": "code",
   "execution_count": 65,
   "id": "abff8825",
   "metadata": {},
   "outputs": [
    {
     "data": {
      "text/plain": [
       "array([[1, 0, 0, 0, 5, 1.0, 7085.0, 85],\n",
       "       [0, 0, 0, 0, 5, 1.0, 4230.0, 28],\n",
       "       [1, 1, 0, 0, 5, 1.0, 10039.0, 104],\n",
       "       [1, 1, 0, 0, 5, 1.0, 6784.0, 80],\n",
       "       [1, 1, 2, 0, 5, 1.0, 3875.0, 22],\n",
       "       [1, 1, 0, 1, 3, 0.0, 6058.0, 70],\n",
       "       [1, 1, 3, 0, 3, 1.0, 6417.0, 77],\n",
       "       [1, 0, 0, 0, 5, 1.0, 12876.0, 114],\n",
       "       [1, 0, 0, 0, 5, 0.0, 5124.0, 53],\n",
       "       [1, 1, 0, 0, 5, 1.0, 5233.0, 55],\n",
       "       [0, 0, 0, 0, 5, 1.0, 2917.0, 4],\n",
       "       [1, 1, 1, 0, 5, 1.0, 2895.0, 2],\n",
       "       [0, 0, 0, 0, 5, 1.0, 8333.0, 96],\n",
       "       [1, 1, 2, 0, 5, 1.0, 8667.0, 97],\n",
       "       [1, 1, 0, 0, 5, 1.0, 14880.0, 117],\n",
       "       [1, 1, 1, 0, 5, 1.0, 3875.0, 22],\n",
       "       [1, 0, 1, 1, 5, 1.0, 4311.0, 32],\n",
       "       [1, 0, 0, 1, 5, 1.0, 3946.0, 25],\n",
       "       [0, 0, 0, 0, 5, 1.0, 2500.0, 1],\n",
       "       [1, 1, 0, 1, 5, 0.0, 4787.0, 44],\n",
       "       [0, 1, 0, 0, 5, 0.0, 6085.0, 71],\n",
       "       [1, 1, 0, 0, 5, 1.0, 4765.0, 43],\n",
       "       [1, 1, 2, 0, 5, 1.0, 7550.0, 91],\n",
       "       [1, 1, 2, 0, 5, 1.0, 11500.0, 111],\n",
       "       [1, 1, 0, 0, 5, 1.0, 4521.0, 35],\n",
       "       [1, 1, 1, 0, 5, 1.0, 8069.0, 94],\n",
       "       [1, 0, 0, 0, 5, 1.0, 8724.0, 98],\n",
       "       [1, 1, 0, 0, 5, 1.0, 11333.0, 110],\n",
       "       [1, 1, 3, 0, 5, 0.0, 4680.0, 41],\n",
       "       [0, 0, 0, 0, 5, 0.0, 5000.0, 50],\n",
       "       [1, 1, 0, 0, 5, 1.0, 9083.0, 99],\n",
       "       [1, 0, 0, 1, 5, 1.0, 4885.0, 46],\n",
       "       [1, 1, 1, 1, 5, 1.0, 5100.0, 52],\n",
       "       [1, 1, 0, 0, 5, 1.0, 9734.0, 102],\n",
       "       [1, 1, 0, 0, 5, 1.0, 8235.0, 95],\n",
       "       [0, 1, 0, 1, 5, 0.0, 5386.0, 57],\n",
       "       [1, 1, 0, 0, 5, 1.0, 5717.0, 65],\n",
       "       [1, 0, 0, 1, 5, 1.0, 4592.0, 39],\n",
       "       [1, 1, 0, 0, 5, 1.0, 6250.0, 75],\n",
       "       [1, 1, 2, 1, 5, 1.0, 3917.0, 24],\n",
       "       [0, 0, 0, 0, 5, 1.0, 3244.0, 9],\n",
       "       [1, 1, 3, 0, 5, 0.0, 5900.0, 68],\n",
       "       [1, 1, 2, 0, 2, 1.0, 2385.0, 0],\n",
       "       [1, 1, 1, 1, 5, 1.0, 5783.0, 67],\n",
       "       [1, 0, 0, 0, 5, 1.0, 3858.0, 21],\n",
       "       [1, 0, 0, 0, 5, 1.0, 12083.0, 113],\n",
       "       [1, 1, 1, 0, 5, 1.0, 3750.0, 18],\n",
       "       [0, 0, 0, 0, 5, 1.0, 4547.0, 37],\n",
       "       [1, 1, 1, 0, 5, 1.0, 6091.0, 72],\n",
       "       [1, 0, 0, 0, 5, 1.0, 6500.0, 78],\n",
       "       [1, 1, 3, 1, 5, 1.0, 3173.0, 8],\n",
       "       [1, 1, 0, 0, 5, 1.0, 7083.0, 84],\n",
       "       [1, 1, 0, 1, 5, 1.0, 4300.0, 31],\n",
       "       [1, 0, 0, 0, 5, 1.0, 5505.0, 61],\n",
       "       [1, 1, 0, 0, 5, 1.0, 3798.0, 19],\n",
       "       [1, 1, 0, 0, 5, 1.0, 10916.0, 107],\n",
       "       [1, 1, 0, 0, 5, 1.0, 4492.0, 34],\n",
       "       [1, 0, 0, 1, 5, 1.0, 6216.0, 74],\n",
       "       [1, 1, 2, 0, 5, 1.0, 5532.0, 62],\n",
       "       [1, 0, 0, 0, 5, 1.0, 4191.0, 27],\n",
       "       [0, 0, 0, 0, 5, 0.0, 11117.0, 108],\n",
       "       [0, 0, 0, 0, 5, 1.0, 10000.0, 103],\n",
       "       [1, 1, 0, 1, 5, 1.0, 4567.0, 38],\n",
       "       [0, 0, 0, 0, 5, 0.0, 3510.0, 13],\n",
       "       [1, 1, 2, 0, 5, 1.0, 5935.0, 69],\n",
       "       [1, 1, 1, 0, 5, 1.0, 11580.0, 112],\n",
       "       [1, 1, 0, 0, 5, 1.0, 6166.0, 73],\n",
       "       [1, 0, 0, 0, 5, 1.0, 4897.0, 47],\n",
       "       [1, 1, 0, 0, 5, 1.0, 6873.0, 81],\n",
       "       [1, 0, 0, 1, 5, 1.0, 5484.0, 60],\n",
       "       [1, 0, 0, 0, 5, 1.0, 6979.0, 83],\n",
       "       [0, 1, 0, 0, 5, 1.0, 2928.0, 5],\n",
       "       [1, 1, 2, 1, 5, 1.0, 5398.0, 58],\n",
       "       [1, 1, 1, 1, 3, 1.0, 6608.0, 79],\n",
       "       [0, 1, 0, 0, 5, 1.0, 5126.0, 54],\n",
       "       [1, 1, 0, 1, 4, 1.0, 5297.0, 56],\n",
       "       [1, 0, 0, 0, 5, 1.0, 35673.0, 120],\n",
       "       [1, 0, 3, 0, 5, 1.0, 15500.0, 118],\n",
       "       [1, 1, 2, 0, 5, 1.0, 9703.0, 101],\n",
       "       [0, 0, 0, 0, 5, 0.0, 4166.0, 26],\n",
       "       [0, 0, 0, 0, 6, 1.0, 4328.0, 33],\n",
       "       [1, 1, 1, 0, 5, 1.0, 18333.0, 119],\n",
       "       [0, 0, 0, 0, 5, 1.0, 7441.0, 89],\n",
       "       [1, 1, 2, 0, 5, 1.0, 7583.0, 92],\n",
       "       [1, 0, 0, 0, 6, 1.0, 3069.0, 6],\n",
       "       [1, 1, 0, 0, 0, 1.0, 7482.0, 90],\n",
       "       [1, 1, 0, 0, 5, 1.0, 4801.0, 45],\n",
       "       [1, 1, 2, 0, 5, 1.0, 11179.0, 109],\n",
       "       [1, 0, 1, 0, 3, 1.0, 3667.0, 17],\n",
       "       [1, 1, 1, 0, 5, 1.0, 4545.0, 36],\n",
       "       [0, 1, 0, 1, 5, 1.0, 3572.0, 16],\n",
       "       [1, 0, 0, 0, 5, 1.0, 3167.0, 7],\n",
       "       [1, 1, 1, 0, 1, 1.0, 7283.0, 88],\n",
       "       [1, 1, 3, 0, 4, 0.0, 7167.0, 87],\n",
       "       [0, 0, 0, 0, 5, 1.0, 2900.0, 3],\n",
       "       [1, 0, 0, 1, 3, 0.0, 5454.0, 59],\n",
       "       [1, 0, 0, 0, 3, 1.0, 6950.0, 82],\n",
       "       [1, 0, 0, 0, 5, 1.0, 5762.0, 66],\n",
       "       [1, 1, 2, 1, 5, 1.0, 5093.0, 51],\n",
       "       [1, 1, 1, 0, 5, 1.0, 9538.0, 100],\n",
       "       [1, 1, 0, 0, 5, 1.0, 7977.0, 93],\n",
       "       [1, 1, 0, 0, 5, 1.0, 3539.0, 15],\n",
       "       [1, 1, 2, 0, 5, 1.0, 10819.0, 106],\n",
       "       [1, 0, 0, 0, 3, 1.0, 10383.0, 105],\n",
       "       [1, 1, 3, 0, 5, 1.0, 5703.0, 64],\n",
       "       [1, 0, 0, 0, 5, 1.0, 4950.0, 49],\n",
       "       [1, 0, 0, 1, 5, 1.0, 4750.0, 42],\n",
       "       [0, 0, 0, 0, 5, 1.0, 3410.0, 10],\n",
       "       [1, 1, 0, 1, 5, 1.0, 3849.0, 20],\n",
       "       [1, 1, 3, 1, 3, 1.0, 3522.0, 14],\n",
       "       [1, 0, 0, 0, 5, 1.0, 6400.0, 76],\n",
       "       [0, 0, 0, 0, 5, 1.0, 3418.0, 11],\n",
       "       [1, 0, 0, 0, 6, 1.0, 3750.0, 18],\n",
       "       [1, 1, 2, 0, 5, 1.0, 3900.0, 23],\n",
       "       [1, 1, 0, 1, 5, 0.0, 5558.0, 63],\n",
       "       [1, 1, 0, 0, 3, 0.0, 4949.0, 48],\n",
       "       [0, 0, 0, 0, 5, 1.0, 4292.0, 30],\n",
       "       [1, 0, 0, 0, 5, 1.0, 4269.0, 29],\n",
       "       [1, 1, 2, 0, 5, 1.0, 7100.0, 86],\n",
       "       [1, 1, 3, 0, 5, 1.0, 13746.0, 115],\n",
       "       [1, 1, 0, 0, 5, 1.0, 14583.0, 116],\n",
       "       [1, 1, 3, 1, 3, 0.0, 4611.0, 40],\n",
       "       [1, 1, 1, 0, 5, 1.0, 3428.0, 12]], dtype=object)"
      ]
     },
     "execution_count": 65,
     "metadata": {},
     "output_type": "execute_result"
    }
   ],
   "source": [
    "x_test"
   ]
  },
  {
   "cell_type": "code",
   "execution_count": 66,
   "id": "5be76880",
   "metadata": {
    "scrolled": true
   },
   "outputs": [],
   "source": [
    "from sklearn.preprocessing import StandardScaler\n",
    "\n",
    "ss = StandardScaler()\n",
    "x_train = ss.fit_transform(x_train)\n",
    "x_test = ss.fit_transform(x_test)\n"
   ]
  },
  {
   "cell_type": "markdown",
   "id": "291a525b",
   "metadata": {},
   "source": [
    "### Applying the algorithm decision "
   ]
  },
  {
   "cell_type": "code",
   "execution_count": 92,
   "id": "aa819924",
   "metadata": {},
   "outputs": [
    {
     "data": {
      "text/html": [
       "<style>#sk-container-id-5 {color: black;background-color: white;}#sk-container-id-5 pre{padding: 0;}#sk-container-id-5 div.sk-toggleable {background-color: white;}#sk-container-id-5 label.sk-toggleable__label {cursor: pointer;display: block;width: 100%;margin-bottom: 0;padding: 0.3em;box-sizing: border-box;text-align: center;}#sk-container-id-5 label.sk-toggleable__label-arrow:before {content: \"▸\";float: left;margin-right: 0.25em;color: #696969;}#sk-container-id-5 label.sk-toggleable__label-arrow:hover:before {color: black;}#sk-container-id-5 div.sk-estimator:hover label.sk-toggleable__label-arrow:before {color: black;}#sk-container-id-5 div.sk-toggleable__content {max-height: 0;max-width: 0;overflow: hidden;text-align: left;background-color: #f0f8ff;}#sk-container-id-5 div.sk-toggleable__content pre {margin: 0.2em;color: black;border-radius: 0.25em;background-color: #f0f8ff;}#sk-container-id-5 input.sk-toggleable__control:checked~div.sk-toggleable__content {max-height: 200px;max-width: 100%;overflow: auto;}#sk-container-id-5 input.sk-toggleable__control:checked~label.sk-toggleable__label-arrow:before {content: \"▾\";}#sk-container-id-5 div.sk-estimator input.sk-toggleable__control:checked~label.sk-toggleable__label {background-color: #d4ebff;}#sk-container-id-5 div.sk-label input.sk-toggleable__control:checked~label.sk-toggleable__label {background-color: #d4ebff;}#sk-container-id-5 input.sk-hidden--visually {border: 0;clip: rect(1px 1px 1px 1px);clip: rect(1px, 1px, 1px, 1px);height: 1px;margin: -1px;overflow: hidden;padding: 0;position: absolute;width: 1px;}#sk-container-id-5 div.sk-estimator {font-family: monospace;background-color: #f0f8ff;border: 1px dotted black;border-radius: 0.25em;box-sizing: border-box;margin-bottom: 0.5em;}#sk-container-id-5 div.sk-estimator:hover {background-color: #d4ebff;}#sk-container-id-5 div.sk-parallel-item::after {content: \"\";width: 100%;border-bottom: 1px solid gray;flex-grow: 1;}#sk-container-id-5 div.sk-label:hover label.sk-toggleable__label {background-color: #d4ebff;}#sk-container-id-5 div.sk-serial::before {content: \"\";position: absolute;border-left: 1px solid gray;box-sizing: border-box;top: 0;bottom: 0;left: 50%;z-index: 0;}#sk-container-id-5 div.sk-serial {display: flex;flex-direction: column;align-items: center;background-color: white;padding-right: 0.2em;padding-left: 0.2em;position: relative;}#sk-container-id-5 div.sk-item {position: relative;z-index: 1;}#sk-container-id-5 div.sk-parallel {display: flex;align-items: stretch;justify-content: center;background-color: white;position: relative;}#sk-container-id-5 div.sk-item::before, #sk-container-id-5 div.sk-parallel-item::before {content: \"\";position: absolute;border-left: 1px solid gray;box-sizing: border-box;top: 0;bottom: 0;left: 50%;z-index: -1;}#sk-container-id-5 div.sk-parallel-item {display: flex;flex-direction: column;z-index: 1;position: relative;background-color: white;}#sk-container-id-5 div.sk-parallel-item:first-child::after {align-self: flex-end;width: 50%;}#sk-container-id-5 div.sk-parallel-item:last-child::after {align-self: flex-start;width: 50%;}#sk-container-id-5 div.sk-parallel-item:only-child::after {width: 0;}#sk-container-id-5 div.sk-dashed-wrapped {border: 1px dashed gray;margin: 0 0.4em 0.5em 0.4em;box-sizing: border-box;padding-bottom: 0.4em;background-color: white;}#sk-container-id-5 div.sk-label label {font-family: monospace;font-weight: bold;display: inline-block;line-height: 1.2em;}#sk-container-id-5 div.sk-label-container {text-align: center;}#sk-container-id-5 div.sk-container {/* jupyter's `normalize.less` sets `[hidden] { display: none; }` but bootstrap.min.css set `[hidden] { display: none !important; }` so we also need the `!important` here to be able to override the default hidden behavior on the sphinx rendered scikit-learn.org. See: https://github.com/scikit-learn/scikit-learn/issues/21755 */display: inline-block !important;position: relative;}#sk-container-id-5 div.sk-text-repr-fallback {display: none;}</style><div id=\"sk-container-id-5\" class=\"sk-top-container\"><div class=\"sk-text-repr-fallback\"><pre>GaussianNB()</pre><b>In a Jupyter environment, please rerun this cell to show the HTML representation or trust the notebook. <br />On GitHub, the HTML representation is unable to render, please try loading this page with nbviewer.org.</b></div><div class=\"sk-container\" hidden><div class=\"sk-item\"><div class=\"sk-estimator sk-toggleable\"><input class=\"sk-toggleable__control sk-hidden--visually\" id=\"sk-estimator-id-5\" type=\"checkbox\" checked><label for=\"sk-estimator-id-5\" class=\"sk-toggleable__label sk-toggleable__label-arrow\">GaussianNB</label><div class=\"sk-toggleable__content\"><pre>GaussianNB()</pre></div></div></div></div></div>"
      ],
      "text/plain": [
       "GaussianNB()"
      ]
     },
     "execution_count": 92,
     "metadata": {},
     "output_type": "execute_result"
    }
   ],
   "source": [
    "from sklearn.naive_bayes import GaussianNB\n",
    "nbclassifier = GaussianNB()\n",
    "\n",
    "nbclassifier.fit(x_train,y_train)"
   ]
  },
  {
   "cell_type": "code",
   "execution_count": 93,
   "id": "4a4aa6b0",
   "metadata": {},
   "outputs": [],
   "source": [
    "y_pred = nbclassifier.predict(x_test)"
   ]
  },
  {
   "cell_type": "code",
   "execution_count": 94,
   "id": "a8e8566b",
   "metadata": {},
   "outputs": [
    {
     "name": "stdout",
     "output_type": "stream",
     "text": [
      "The accuracy of decision tree by naive bayes algorithm is:  0.8373983739837398\n"
     ]
    }
   ],
   "source": [
    "print(\"The accuracy of decision tree by naive bayes algorithm is: \", metrics.accuracy_score(y_pred, y_test))"
   ]
  },
  {
   "cell_type": "markdown",
   "id": "d476f1a9",
   "metadata": {},
   "source": [
    "## TO test ."
   ]
  },
  {
   "cell_type": "code",
   "execution_count": 154,
   "id": "f89a621f",
   "metadata": {},
   "outputs": [],
   "source": [
    "c= pd.read_csv(\"loan-test.csv\")"
   ]
  },
  {
   "cell_type": "code",
   "execution_count": 155,
   "id": "6a22562c",
   "metadata": {},
   "outputs": [],
   "source": [
    "c.head();"
   ]
  },
  {
   "cell_type": "code",
   "execution_count": 156,
   "id": "b1267bb9",
   "metadata": {},
   "outputs": [
    {
     "data": {
      "text/plain": [
       "Loan_ID              0\n",
       "Gender               0\n",
       "Married              0\n",
       "Dependents           0\n",
       "Education            0\n",
       "Self_Employed        0\n",
       "ApplicantIncome      0\n",
       "CoapplicantIncome    0\n",
       "LoanAmount           0\n",
       "Loan_Amount_Term     0\n",
       "Credit_History       0\n",
       "Property_Area        0\n",
       "dtype: int64"
      ]
     },
     "execution_count": 156,
     "metadata": {},
     "output_type": "execute_result"
    }
   ],
   "source": [
    "c['Gender'].fillna(c['Gender'].mode()[0],inplace=True)\n",
    "c['Self_Employed'].fillna(c['Self_Employed'].mode()[0], inplace=True)\n",
    "c['Married'].fillna(c['Married'].mode()[0], inplace=True)\n",
    "c['Dependents'].fillna(c['Dependents'].mode()[0], inplace=True)\n",
    "c['LoanAmount'].fillna(c['LoanAmount'].mean(), inplace=True)\n",
    "c['Loan_Amount_Term'].fillna(c['Loan_Amount_Term'].mode()[0], inplace=True)             \n",
    "c['Credit_History'].fillna(c['Credit_History'].mode()[0], inplace=True)\n",
    "c.isnull().sum()"
   ]
  },
  {
   "cell_type": "code",
   "execution_count": 139,
   "id": "78462e4b",
   "metadata": {},
   "outputs": [],
   "source": [
    "c['LoanAmount_log'] = np.log(c['LoanAmount'])"
   ]
  },
  {
   "cell_type": "code",
   "execution_count": 140,
   "id": "1dc441fd",
   "metadata": {},
   "outputs": [],
   "source": [
    "c['TotalIncome'] = c['ApplicantIncome'] + c['CoapplicantIncome']\n",
    "c['TotalIncome_log'] = np.log(c['TotalIncome'])"
   ]
  },
  {
   "cell_type": "code",
   "execution_count": 141,
   "id": "a0f5a560",
   "metadata": {},
   "outputs": [],
   "source": [
    "test = c.iloc[:, np.r_[1:5,9:11,13:15]].values"
   ]
  },
  {
   "cell_type": "code",
   "execution_count": 142,
   "id": "c85cad07",
   "metadata": {},
   "outputs": [],
   "source": [
    "for i in range(0,5):\n",
    "    test[:,i] = labelencoder_x.fit_transform(test[:,i])\n",
    "test[:,7] = labelencoder_x.fit_transform(test[:,7])\n",
    "  "
   ]
  },
  {
   "cell_type": "code",
   "execution_count": 143,
   "id": "1a1c4113",
   "metadata": {},
   "outputs": [],
   "source": [
    "test=ss.fit_transform(test)"
   ]
  },
  {
   "cell_type": "code",
   "execution_count": 144,
   "id": "fd234f53",
   "metadata": {},
   "outputs": [
    {
     "data": {
      "text/plain": [
       "array([[ 0.        ,  1.41421356,  0.        ,  0.        ,  0.        ,\n",
       "         0.70710678, -1.22693776, -1.22474487],\n",
       "       [ 0.        , -0.70710678,  0.        ,  0.        ,  0.        ,\n",
       "         0.70710678,  0.00439763,  0.        ],\n",
       "       [ 0.        , -0.70710678,  0.        ,  0.        ,  0.        ,\n",
       "        -1.41421356,  1.22254014,  1.22474487]])"
      ]
     },
     "execution_count": 144,
     "metadata": {},
     "output_type": "execute_result"
    }
   ],
   "source": [
    "test"
   ]
  },
  {
   "cell_type": "code",
   "execution_count": 145,
   "id": "16e0e2cf",
   "metadata": {},
   "outputs": [],
   "source": [
    "prediction = nbclassifier.predict(test)"
   ]
  },
  {
   "cell_type": "code",
   "execution_count": 146,
   "id": "1c4551c6",
   "metadata": {},
   "outputs": [
    {
     "data": {
      "text/plain": [
       "array([1, 1, 0])"
      ]
     },
     "execution_count": 146,
     "metadata": {},
     "output_type": "execute_result"
    }
   ],
   "source": [
    "prediction "
   ]
  },
  {
   "cell_type": "markdown",
   "id": "ea24aef8",
   "metadata": {},
   "source": [
    "## The Y=yes for the application accepted and N = NO for the application regected ."
   ]
  },
  {
   "cell_type": "code",
   "execution_count": 162,
   "id": "dfe27e51",
   "metadata": {},
   "outputs": [
    {
     "data": {
      "text/plain": [
       "['Y', 'Y', 'N']"
      ]
     },
     "execution_count": 162,
     "metadata": {},
     "output_type": "execute_result"
    }
   ],
   "source": [
    "predicted_labels = ['Y' if pred == 1 else 'N' for pred in prediction]\n",
    "predicted_labels"
   ]
  },
  {
   "cell_type": "code",
   "execution_count": 148,
   "id": "7e9efeaa",
   "metadata": {},
   "outputs": [],
   "source": []
  },
  {
   "cell_type": "code",
   "execution_count": 149,
   "id": "2d57b7ba",
   "metadata": {},
   "outputs": [],
   "source": []
  },
  {
   "cell_type": "code",
   "execution_count": null,
   "id": "2de45526",
   "metadata": {},
   "outputs": [],
   "source": []
  },
  {
   "cell_type": "code",
   "execution_count": null,
   "id": "1932b5d1",
   "metadata": {},
   "outputs": [],
   "source": []
  }
 ],
 "metadata": {
  "kernelspec": {
   "display_name": "Python 3 (ipykernel)",
   "language": "python",
   "name": "python3"
  },
  "language_info": {
   "codemirror_mode": {
    "name": "ipython",
    "version": 3
   },
   "file_extension": ".py",
   "mimetype": "text/x-python",
   "name": "python",
   "nbconvert_exporter": "python",
   "pygments_lexer": "ipython3",
   "version": "3.11.3"
  }
 },
 "nbformat": 4,
 "nbformat_minor": 5
}
